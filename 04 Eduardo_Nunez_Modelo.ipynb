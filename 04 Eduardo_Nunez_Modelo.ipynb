{
 "cells": [
  {
   "cell_type": "markdown",
   "metadata": {},
   "source": [
    "# Selección modelo de Machine Learning"
   ]
  },
  {
   "cell_type": "code",
   "execution_count": 103,
   "metadata": {},
   "outputs": [],
   "source": [
    "import pandas as pd\n",
    "import numpy as np\n",
    "from xgboost import XGBRegressor\n",
    "from lightgbm import LGBMRegressor\n",
    "from sklearn.model_selection import train_test_split, cross_val_score, KFold\n",
    "from sklearn.linear_model import LinearRegression, Ridge\n",
    "from sklearn.metrics import make_scorer, mean_squared_error, r2_score"
   ]
  },
  {
   "cell_type": "code",
   "execution_count": 104,
   "metadata": {},
   "outputs": [
    {
     "data": {
      "text/html": [
       "<div>\n",
       "<style scoped>\n",
       "    .dataframe tbody tr th:only-of-type {\n",
       "        vertical-align: middle;\n",
       "    }\n",
       "\n",
       "    .dataframe tbody tr th {\n",
       "        vertical-align: top;\n",
       "    }\n",
       "\n",
       "    .dataframe thead th {\n",
       "        text-align: right;\n",
       "    }\n",
       "</style>\n",
       "<table border=\"1\" class=\"dataframe\">\n",
       "  <thead>\n",
       "    <tr style=\"text-align: right;\">\n",
       "      <th></th>\n",
       "      <th>NA_Sales</th>\n",
       "      <th>EU_Sales</th>\n",
       "      <th>JP_Sales</th>\n",
       "      <th>Other_Sales</th>\n",
       "      <th>metacritic</th>\n",
       "      <th>Global_Sales</th>\n",
       "      <th>Franchise_AceCombat</th>\n",
       "      <th>Franchise_AdventureTime</th>\n",
       "      <th>Franchise_AgeOfEmpires</th>\n",
       "      <th>Franchise_AloneInTheDark</th>\n",
       "      <th>...</th>\n",
       "      <th>Publisher_Takara</th>\n",
       "      <th>Publisher_Take-Two Interactive</th>\n",
       "      <th>Publisher_Titus</th>\n",
       "      <th>Publisher_Wanadoo</th>\n",
       "      <th>Publisher_Xseed Games</th>\n",
       "      <th>Publisher_Zoo Games</th>\n",
       "      <th>Publisher_Zushi Games</th>\n",
       "      <th>esrb_rating_Mature</th>\n",
       "      <th>esrb_rating_Rating Pending</th>\n",
       "      <th>PC1</th>\n",
       "    </tr>\n",
       "  </thead>\n",
       "  <tbody>\n",
       "    <tr>\n",
       "      <th>0</th>\n",
       "      <td>0.567773</td>\n",
       "      <td>0.203791</td>\n",
       "      <td>0.200948</td>\n",
       "      <td>0.027488</td>\n",
       "      <td>80.238683</td>\n",
       "      <td>10.55</td>\n",
       "      <td>0</td>\n",
       "      <td>0</td>\n",
       "      <td>0</td>\n",
       "      <td>0</td>\n",
       "      <td>...</td>\n",
       "      <td>0</td>\n",
       "      <td>0</td>\n",
       "      <td>0</td>\n",
       "      <td>0</td>\n",
       "      <td>0</td>\n",
       "      <td>0</td>\n",
       "      <td>0</td>\n",
       "      <td>0</td>\n",
       "      <td>0</td>\n",
       "      <td>-0.171564</td>\n",
       "    </tr>\n",
       "    <tr>\n",
       "      <th>1</th>\n",
       "      <td>0.372330</td>\n",
       "      <td>0.312309</td>\n",
       "      <td>0.251272</td>\n",
       "      <td>0.064090</td>\n",
       "      <td>78.000000</td>\n",
       "      <td>9.83</td>\n",
       "      <td>0</td>\n",
       "      <td>0</td>\n",
       "      <td>0</td>\n",
       "      <td>0</td>\n",
       "      <td>...</td>\n",
       "      <td>0</td>\n",
       "      <td>0</td>\n",
       "      <td>0</td>\n",
       "      <td>0</td>\n",
       "      <td>0</td>\n",
       "      <td>0</td>\n",
       "      <td>0</td>\n",
       "      <td>0</td>\n",
       "      <td>0</td>\n",
       "      <td>0.341259</td>\n",
       "    </tr>\n",
       "    <tr>\n",
       "      <th>2</th>\n",
       "      <td>0.468817</td>\n",
       "      <td>0.183871</td>\n",
       "      <td>0.322581</td>\n",
       "      <td>0.024731</td>\n",
       "      <td>80.238683</td>\n",
       "      <td>9.30</td>\n",
       "      <td>0</td>\n",
       "      <td>0</td>\n",
       "      <td>0</td>\n",
       "      <td>0</td>\n",
       "      <td>...</td>\n",
       "      <td>0</td>\n",
       "      <td>0</td>\n",
       "      <td>0</td>\n",
       "      <td>0</td>\n",
       "      <td>0</td>\n",
       "      <td>0</td>\n",
       "      <td>0</td>\n",
       "      <td>0</td>\n",
       "      <td>0</td>\n",
       "      <td>0.938007</td>\n",
       "    </tr>\n",
       "    <tr>\n",
       "      <th>3</th>\n",
       "      <td>0.722520</td>\n",
       "      <td>0.158177</td>\n",
       "      <td>0.093834</td>\n",
       "      <td>0.025469</td>\n",
       "      <td>80.238683</td>\n",
       "      <td>7.46</td>\n",
       "      <td>0</td>\n",
       "      <td>0</td>\n",
       "      <td>0</td>\n",
       "      <td>0</td>\n",
       "      <td>...</td>\n",
       "      <td>0</td>\n",
       "      <td>0</td>\n",
       "      <td>0</td>\n",
       "      <td>0</td>\n",
       "      <td>0</td>\n",
       "      <td>0</td>\n",
       "      <td>0</td>\n",
       "      <td>0</td>\n",
       "      <td>0</td>\n",
       "      <td>0.667963</td>\n",
       "    </tr>\n",
       "    <tr>\n",
       "      <th>4</th>\n",
       "      <td>0.493171</td>\n",
       "      <td>0.279211</td>\n",
       "      <td>0.156297</td>\n",
       "      <td>0.071320</td>\n",
       "      <td>85.000000</td>\n",
       "      <td>6.59</td>\n",
       "      <td>0</td>\n",
       "      <td>0</td>\n",
       "      <td>0</td>\n",
       "      <td>0</td>\n",
       "      <td>...</td>\n",
       "      <td>0</td>\n",
       "      <td>0</td>\n",
       "      <td>0</td>\n",
       "      <td>0</td>\n",
       "      <td>0</td>\n",
       "      <td>0</td>\n",
       "      <td>0</td>\n",
       "      <td>0</td>\n",
       "      <td>0</td>\n",
       "      <td>-0.028092</td>\n",
       "    </tr>\n",
       "  </tbody>\n",
       "</table>\n",
       "<p>5 rows × 188 columns</p>\n",
       "</div>"
      ],
      "text/plain": [
       "   NA_Sales  EU_Sales  JP_Sales  Other_Sales  metacritic  Global_Sales  \\\n",
       "0  0.567773  0.203791  0.200948     0.027488   80.238683         10.55   \n",
       "1  0.372330  0.312309  0.251272     0.064090   78.000000          9.83   \n",
       "2  0.468817  0.183871  0.322581     0.024731   80.238683          9.30   \n",
       "3  0.722520  0.158177  0.093834     0.025469   80.238683          7.46   \n",
       "4  0.493171  0.279211  0.156297     0.071320   85.000000          6.59   \n",
       "\n",
       "   Franchise_AceCombat  Franchise_AdventureTime  Franchise_AgeOfEmpires  \\\n",
       "0                    0                        0                       0   \n",
       "1                    0                        0                       0   \n",
       "2                    0                        0                       0   \n",
       "3                    0                        0                       0   \n",
       "4                    0                        0                       0   \n",
       "\n",
       "   Franchise_AloneInTheDark  ...  Publisher_Takara  \\\n",
       "0                         0  ...                 0   \n",
       "1                         0  ...                 0   \n",
       "2                         0  ...                 0   \n",
       "3                         0  ...                 0   \n",
       "4                         0  ...                 0   \n",
       "\n",
       "   Publisher_Take-Two Interactive  Publisher_Titus  Publisher_Wanadoo  \\\n",
       "0                               0                0                  0   \n",
       "1                               0                0                  0   \n",
       "2                               0                0                  0   \n",
       "3                               0                0                  0   \n",
       "4                               0                0                  0   \n",
       "\n",
       "   Publisher_Xseed Games  Publisher_Zoo Games  Publisher_Zushi Games  \\\n",
       "0                      0                    0                      0   \n",
       "1                      0                    0                      0   \n",
       "2                      0                    0                      0   \n",
       "3                      0                    0                      0   \n",
       "4                      0                    0                      0   \n",
       "\n",
       "   esrb_rating_Mature  esrb_rating_Rating Pending       PC1  \n",
       "0                   0                           0 -0.171564  \n",
       "1                   0                           0  0.341259  \n",
       "2                   0                           0  0.938007  \n",
       "3                   0                           0  0.667963  \n",
       "4                   0                           0 -0.028092  \n",
       "\n",
       "[5 rows x 188 columns]"
      ]
     },
     "execution_count": 104,
     "metadata": {},
     "output_type": "execute_result"
    }
   ],
   "source": [
    "df = pd.read_csv(\"videogame_data_model.csv\")\n",
    "df.head()"
   ]
  },
  {
   "cell_type": "markdown",
   "metadata": {},
   "source": [
    "## Modelos de Machine Learning"
   ]
  },
  {
   "cell_type": "markdown",
   "metadata": {},
   "source": [
    "En el presente proyecto, se desea predecir la variable continua **Global_Sales**. Por lo tanto, el problema corresponde a un problema de regresión. De esta forma, las alternativas de modelos de regresión que se utilizarán son:\n",
    "\n",
    "- Linear Regression\n",
    "- Ridge Regression\n",
    "- Gradient Boost (XGBoost)\n",
    "- Gradient Boost (LightGBM)\n",
    "\n",
    "En todas las evaluaciones de modelos se utilizará cross validation con **k=5** con las variables *X* e *y* que se muestran a continuación."
   ]
  },
  {
   "cell_type": "code",
   "execution_count": 105,
   "metadata": {},
   "outputs": [],
   "source": [
    "X = df.drop(columns=[\"Global_Sales\"])\n",
    "y = df[\"Global_Sales\"]"
   ]
  },
  {
   "cell_type": "markdown",
   "metadata": {},
   "source": [
    "#### Linear Regression"
   ]
  },
  {
   "cell_type": "markdown",
   "metadata": {},
   "source": [
    "Se realiza una **cross-validation** con el modelo de `LinearRegression` utilizando `k=5`. Al observar los resultados de `cv_scores` se puede concluir que:\n",
    "\n",
    "- El modelo de `LinearRegression` muestra un bajo coeficiente de correlacion $R^2$ con un promedio de 0.115, lo que significa que el modelo explica\n",
    "aproximadamente un 11.5% de la variabilidad de los datos.\n",
    "\n",
    "- En general el modelo es consistente, con una desviación estandar del coeficiende de correlacion $R^2$ de 0.06."
   ]
  },
  {
   "cell_type": "code",
   "execution_count": 106,
   "metadata": {},
   "outputs": [],
   "source": [
    "linear_model = LinearRegression()\n",
    "kfold = KFold(n_splits=5, shuffle=True, random_state=42)\n",
    "cv_scores = cross_val_score(linear_model, X, y, cv=kfold, scoring=\"r2\")"
   ]
  },
  {
   "cell_type": "code",
   "execution_count": 107,
   "metadata": {},
   "outputs": [
    {
     "name": "stdout",
     "output_type": "stream",
     "text": [
      "Puntajes r2 del Cross-Validation: [-0.00089911  0.16465099  0.11044923  0.155781    0.14770199]\n",
      "Promedio r2: 0.11553681806158707\n",
      "Desviación Estándar de r2: 0.06107307839337174\n"
     ]
    }
   ],
   "source": [
    "print(\"Puntajes r2 del Cross-Validation:\", cv_scores)\n",
    "print(\"Promedio r2:\", np.mean(cv_scores))\n",
    "print(\"Desviación Estándar de r2:\", np.std(cv_scores))"
   ]
  },
  {
   "cell_type": "markdown",
   "metadata": {},
   "source": [
    "#### Ridge Regression"
   ]
  },
  {
   "cell_type": "markdown",
   "metadata": {},
   "source": [
    "Se realiza una **cross-validation** con el modelo de `Ridge` utilizando `k=5` con hiperparámetro `alpha=2.0` el cual fue seleccionado al tanteo evaluando el mayor promedio de $R^2$. Al observar los resultados de `cv_scores` se puede concluir que:\n",
    "\n",
    "- El modelo de `Ridge` muestra un bajo coeficiente de correlacion $R^2$ con un promedio de 0.1617, lo que significa que el modelo explica\n",
    "aproximadamente un 16.17% de la variabilidad de los datos. Esto es una mejora respecto del modelo `LinearRegression`\n",
    "\n",
    "- En general el modelo es consistente, con una desviación estandar del coeficiende de correlacion $R^2$ de 0.01 siendo menor que en el modelo\n",
    "`LinearRegression`"
   ]
  },
  {
   "cell_type": "code",
   "execution_count": 108,
   "metadata": {},
   "outputs": [],
   "source": [
    "alpha = 2.0\n",
    "ridge_model = Ridge(alpha=alpha)\n",
    "cv_scores = cross_val_score(ridge_model, X, y, cv=kfold, scoring=\"r2\")"
   ]
  },
  {
   "cell_type": "code",
   "execution_count": 109,
   "metadata": {},
   "outputs": [
    {
     "name": "stdout",
     "output_type": "stream",
     "text": [
      "Puntajes r2 del Cross-Validation: [0.16568205 0.18476329 0.15460895 0.15711501 0.14651893]\n",
      "Promedio r2: 0.16173764579446698\n",
      "Desviación Estándar de r2: 0.013034836057014724\n"
     ]
    }
   ],
   "source": [
    "print(\"Puntajes r2 del Cross-Validation:\", cv_scores)\n",
    "print(\"Promedio r2:\", np.mean(cv_scores))\n",
    "print(\"Desviación Estándar de r2:\", np.std(cv_scores))"
   ]
  },
  {
   "cell_type": "markdown",
   "metadata": {},
   "source": [
    "#### Gradient Boost (XGBoost)"
   ]
  },
  {
   "cell_type": "markdown",
   "metadata": {},
   "source": [
    "Se realiza una **cross-validation** con el modelo de `XGBoost` utilizando `k=5` con hiperparámetros `n_estimators=150` que corresponde al numero total de arboles utilizados, `learning_rate=0.3` que corresponde a la velocidad con la que el modelo entrena en cada iteración y `max_depth=5` que corresponde al número máximo de niveles en cada arbol. Éstos hiperparametros fueron seleccionados al tanteo evaluando el mayor promedio de $R^2$. Al observar los resultados de `cv_scores` se puede concluir que:\n",
    "\n",
    "- El modelo de `XGBRegressor` muestra un aceptable coeficiente de correlacion $R^2$ con un promedio de **0.4926**, lo que significa que el modelo explica\n",
    "aproximadamente un 49.26% de la variabilidad de los datos. Esto es una gran mejora respecto del modelo `LinearRegression` y `Ridge`\n",
    "\n",
    "- En general el modelo es consistente, con una desviación estandar del coeficiende de correlacion $R^2$ de **0.026** siendo menor que en el modelo\n",
    "`LinearRegression`, aunque no menor que el modelo `Ridge`"
   ]
  },
  {
   "cell_type": "code",
   "execution_count": 110,
   "metadata": {},
   "outputs": [],
   "source": [
    "xgb_model = XGBRegressor(\n",
    "    n_estimators=150,\n",
    "    learning_rate=0.3,\n",
    "    max_depth=5,\n",
    "    random_state=42,\n",
    ")\n",
    "cv_scores = cross_val_score(xgb_model, X, y, cv=kfold, scoring=\"r2\")"
   ]
  },
  {
   "cell_type": "code",
   "execution_count": 111,
   "metadata": {},
   "outputs": [
    {
     "name": "stdout",
     "output_type": "stream",
     "text": [
      "Puntajes r2 del Cross-Validation: [0.46735375 0.51080973 0.51181658 0.5197912  0.45371036]\n",
      "Promedio r2: 0.4926963239490137\n",
      "Desviación Estándar de r2: 0.026795384610559123\n"
     ]
    }
   ],
   "source": [
    "print(\"Puntajes r2 del Cross-Validation:\", cv_scores)\n",
    "print(\"Promedio r2:\", np.mean(cv_scores))\n",
    "print(\"Desviación Estándar de r2:\", np.std(cv_scores))"
   ]
  },
  {
   "cell_type": "markdown",
   "metadata": {},
   "source": [
    "### Gradient Boost (LightGBM)"
   ]
  },
  {
   "cell_type": "markdown",
   "metadata": {},
   "source": [
    "Se realiza una **cross-validation** con el modelo de `LGBMRegressor` utilizando `k=5` con hiperparámetros `n_estimators=100` que corresponde al numero total de arboles utilizados, `learning_rate=0.3` que corresponde a la velocidad con la que el modelo entrena en cada iteración y `max_depth=5` que corresponde al número máximo de niveles en cada arbol. Éstos hiperparametros fueron seleccionados al tanteo evaluando el mayor promedio de $R^2$. Al observar los resultados de `cv_scores` se puede concluir que:\n",
    "\n",
    "- El modelo de `LGBMRegressor` muestra un aceptable coeficiente de correlacion $R^2$ con un promedio de **0.5051**, lo que significa que el modelo explica\n",
    "aproximadamente un 50.51% de la variabilidad de los datos. Esto es una gran mejora respecto del modelo `LinearRegression` y `Ridge` y es ligeramente mejor que `XGBRegressor`\n",
    "\n",
    "- En general el modelo es consistente, con una desviación estandar del coeficiende de correlacion $R^2$ de **0.026** siendo menor que en el modelo\n",
    "`LinearRegression`, aunque no menor que el modelo `Ridge` ni el modelo `XGBRegressor`"
   ]
  },
  {
   "cell_type": "code",
   "execution_count": 136,
   "metadata": {},
   "outputs": [],
   "source": [
    "lgb_model = LGBMRegressor(\n",
    "    n_estimators=100,\n",
    "    learning_rate=0.3,\n",
    "    max_depth=5,\n",
    "    random_state=42,\n",
    ")\n",
    "cv_scores = cross_val_score(lgb_model, X, y, cv=kfold, scoring=\"r2\")"
   ]
  },
  {
   "cell_type": "code",
   "execution_count": 137,
   "metadata": {},
   "outputs": [
    {
     "name": "stdout",
     "output_type": "stream",
     "text": [
      "Puntajes r2 del Cross-Validation: [0.50065016 0.50209282 0.53298933 0.53907897 0.45113702]\n",
      "Promedio r2: 0.505189661208102\n",
      "Desviación Estándar de r2: 0.0312192015430533\n"
     ]
    }
   ],
   "source": [
    "print(\"Puntajes r2 del Cross-Validation:\", cv_scores)\n",
    "print(\"Promedio r2:\", np.mean(cv_scores))\n",
    "print(\"Desviación Estándar de r2:\", np.std(cv_scores))"
   ]
  }
 ],
 "metadata": {
  "kernelspec": {
   "display_name": ".data-science-env",
   "language": "python",
   "name": "python3"
  },
  "language_info": {
   "codemirror_mode": {
    "name": "ipython",
    "version": 3
   },
   "file_extension": ".py",
   "mimetype": "text/x-python",
   "name": "python",
   "nbconvert_exporter": "python",
   "pygments_lexer": "ipython3",
   "version": "3.12.0"
  }
 },
 "nbformat": 4,
 "nbformat_minor": 2
}
